{
 "cells": [
  {
   "cell_type": "markdown",
   "metadata": {},
   "source": [
    "# Lab 2: Exploratory data analysis\n",
    "\n",
    "In this lab, we are going to be exploring the data in the Open Exo Catalogue dataset (from kaggle.com).  \n",
    "\n",
    "## Reading Data\n",
    "First we use pd.read.csv to read in the data"
   ]
  },
  {
   "cell_type": "code",
   "execution_count": 2,
   "metadata": {},
   "outputs": [
    {
     "data": {
      "text/html": [
       "<div>\n",
       "<style scoped>\n",
       "    .dataframe tbody tr th:only-of-type {\n",
       "        vertical-align: middle;\n",
       "    }\n",
       "\n",
       "    .dataframe tbody tr th {\n",
       "        vertical-align: top;\n",
       "    }\n",
       "\n",
       "    .dataframe thead th {\n",
       "        text-align: right;\n",
       "    }\n",
       "</style>\n",
       "<table border=\"1\" class=\"dataframe\">\n",
       "  <thead>\n",
       "    <tr style=\"text-align: right;\">\n",
       "      <th></th>\n",
       "      <th>PlanetIdentifier</th>\n",
       "      <th>TypeFlag</th>\n",
       "      <th>PlanetaryMassJpt</th>\n",
       "      <th>RadiusJpt</th>\n",
       "      <th>PeriodDays</th>\n",
       "      <th>SemiMajorAxisAU</th>\n",
       "      <th>Eccentricity</th>\n",
       "      <th>PeriastronDeg</th>\n",
       "      <th>LongitudeDeg</th>\n",
       "      <th>AscendingNodeDeg</th>\n",
       "      <th>...</th>\n",
       "      <th>LastUpdated</th>\n",
       "      <th>RightAscension</th>\n",
       "      <th>Declination</th>\n",
       "      <th>DistFromSunParsec</th>\n",
       "      <th>HostStarMassSlrMass</th>\n",
       "      <th>HostStarRadiusSlrRad</th>\n",
       "      <th>HostStarMetallicity</th>\n",
       "      <th>HostStarTempK</th>\n",
       "      <th>HostStarAgeGyr</th>\n",
       "      <th>ListsPlanetIsOn</th>\n",
       "    </tr>\n",
       "  </thead>\n",
       "  <tbody>\n",
       "    <tr>\n",
       "      <th>0</th>\n",
       "      <td>HD 143761 b</td>\n",
       "      <td>0</td>\n",
       "      <td>1.0450</td>\n",
       "      <td>NaN</td>\n",
       "      <td>39.845800</td>\n",
       "      <td>0.2196</td>\n",
       "      <td>0.037</td>\n",
       "      <td>270.6</td>\n",
       "      <td>NaN</td>\n",
       "      <td>NaN</td>\n",
       "      <td>...</td>\n",
       "      <td>16/07/11</td>\n",
       "      <td>16 01 03</td>\n",
       "      <td>+33 18 13</td>\n",
       "      <td>17.236</td>\n",
       "      <td>0.889</td>\n",
       "      <td>1.362</td>\n",
       "      <td>-0.31</td>\n",
       "      <td>5627.0</td>\n",
       "      <td>NaN</td>\n",
       "      <td>Confirmed planets</td>\n",
       "    </tr>\n",
       "    <tr>\n",
       "      <th>1</th>\n",
       "      <td>HD 143761 c</td>\n",
       "      <td>0</td>\n",
       "      <td>0.0790</td>\n",
       "      <td>NaN</td>\n",
       "      <td>102.540000</td>\n",
       "      <td>0.4123</td>\n",
       "      <td>0.050</td>\n",
       "      <td>190.0</td>\n",
       "      <td>NaN</td>\n",
       "      <td>NaN</td>\n",
       "      <td>...</td>\n",
       "      <td>16/07/11</td>\n",
       "      <td>16 01 03</td>\n",
       "      <td>+33 18 13</td>\n",
       "      <td>17.236</td>\n",
       "      <td>0.889</td>\n",
       "      <td>1.362</td>\n",
       "      <td>-0.31</td>\n",
       "      <td>5627.0</td>\n",
       "      <td>NaN</td>\n",
       "      <td>Confirmed planets</td>\n",
       "    </tr>\n",
       "    <tr>\n",
       "      <th>2</th>\n",
       "      <td>KOI-1843.03</td>\n",
       "      <td>0</td>\n",
       "      <td>0.0014</td>\n",
       "      <td>0.054</td>\n",
       "      <td>0.176891</td>\n",
       "      <td>0.0048</td>\n",
       "      <td>NaN</td>\n",
       "      <td>NaN</td>\n",
       "      <td>NaN</td>\n",
       "      <td>NaN</td>\n",
       "      <td>...</td>\n",
       "      <td>13/07/15</td>\n",
       "      <td>19 00 03.14</td>\n",
       "      <td>+40 13 14.7</td>\n",
       "      <td>NaN</td>\n",
       "      <td>0.460</td>\n",
       "      <td>0.450</td>\n",
       "      <td>0.00</td>\n",
       "      <td>3584.0</td>\n",
       "      <td>NaN</td>\n",
       "      <td>Controversial</td>\n",
       "    </tr>\n",
       "    <tr>\n",
       "      <th>3</th>\n",
       "      <td>KOI-1843.01</td>\n",
       "      <td>0</td>\n",
       "      <td>NaN</td>\n",
       "      <td>0.114</td>\n",
       "      <td>4.194525</td>\n",
       "      <td>0.0390</td>\n",
       "      <td>NaN</td>\n",
       "      <td>NaN</td>\n",
       "      <td>NaN</td>\n",
       "      <td>NaN</td>\n",
       "      <td>...</td>\n",
       "      <td>NaN</td>\n",
       "      <td>19 00 03.14</td>\n",
       "      <td>+40 13 14.7</td>\n",
       "      <td>NaN</td>\n",
       "      <td>0.460</td>\n",
       "      <td>0.450</td>\n",
       "      <td>0.00</td>\n",
       "      <td>3584.0</td>\n",
       "      <td>NaN</td>\n",
       "      <td>Controversial</td>\n",
       "    </tr>\n",
       "    <tr>\n",
       "      <th>4</th>\n",
       "      <td>KOI-1843.02</td>\n",
       "      <td>0</td>\n",
       "      <td>NaN</td>\n",
       "      <td>0.071</td>\n",
       "      <td>6.356006</td>\n",
       "      <td>0.0520</td>\n",
       "      <td>NaN</td>\n",
       "      <td>NaN</td>\n",
       "      <td>NaN</td>\n",
       "      <td>NaN</td>\n",
       "      <td>...</td>\n",
       "      <td>NaN</td>\n",
       "      <td>19 00 03.14</td>\n",
       "      <td>+40 13 14.7</td>\n",
       "      <td>NaN</td>\n",
       "      <td>0.460</td>\n",
       "      <td>0.450</td>\n",
       "      <td>0.00</td>\n",
       "      <td>3584.0</td>\n",
       "      <td>NaN</td>\n",
       "      <td>Controversial</td>\n",
       "    </tr>\n",
       "  </tbody>\n",
       "</table>\n",
       "<p>5 rows × 25 columns</p>\n",
       "</div>"
      ],
      "text/plain": [
       "  PlanetIdentifier  TypeFlag  PlanetaryMassJpt  RadiusJpt  PeriodDays  \\\n",
       "0      HD 143761 b         0            1.0450        NaN   39.845800   \n",
       "1      HD 143761 c         0            0.0790        NaN  102.540000   \n",
       "2      KOI-1843.03         0            0.0014      0.054    0.176891   \n",
       "3      KOI-1843.01         0               NaN      0.114    4.194525   \n",
       "4      KOI-1843.02         0               NaN      0.071    6.356006   \n",
       "\n",
       "   SemiMajorAxisAU  Eccentricity  PeriastronDeg  LongitudeDeg  \\\n",
       "0           0.2196         0.037          270.6           NaN   \n",
       "1           0.4123         0.050          190.0           NaN   \n",
       "2           0.0048           NaN            NaN           NaN   \n",
       "3           0.0390           NaN            NaN           NaN   \n",
       "4           0.0520           NaN            NaN           NaN   \n",
       "\n",
       "   AscendingNodeDeg  ...  LastUpdated  RightAscension  Declination  \\\n",
       "0               NaN  ...     16/07/11        16 01 03    +33 18 13   \n",
       "1               NaN  ...     16/07/11        16 01 03    +33 18 13   \n",
       "2               NaN  ...     13/07/15     19 00 03.14  +40 13 14.7   \n",
       "3               NaN  ...          NaN     19 00 03.14  +40 13 14.7   \n",
       "4               NaN  ...          NaN     19 00 03.14  +40 13 14.7   \n",
       "\n",
       "  DistFromSunParsec  HostStarMassSlrMass HostStarRadiusSlrRad  \\\n",
       "0            17.236                0.889                1.362   \n",
       "1            17.236                0.889                1.362   \n",
       "2               NaN                0.460                0.450   \n",
       "3               NaN                0.460                0.450   \n",
       "4               NaN                0.460                0.450   \n",
       "\n",
       "  HostStarMetallicity HostStarTempK  HostStarAgeGyr    ListsPlanetIsOn  \n",
       "0               -0.31        5627.0             NaN  Confirmed planets  \n",
       "1               -0.31        5627.0             NaN  Confirmed planets  \n",
       "2                0.00        3584.0             NaN      Controversial  \n",
       "3                0.00        3584.0             NaN      Controversial  \n",
       "4                0.00        3584.0             NaN      Controversial  \n",
       "\n",
       "[5 rows x 25 columns]"
      ]
     },
     "execution_count": 2,
     "metadata": {},
     "output_type": "execute_result"
    }
   ],
   "source": [
    "import numpy as np\n",
    "import pandas as pd\n",
    "\n",
    "myfile = 'oec.csv'\n",
    "\n",
    "#read data from a csv file\n",
    "df = pd.read_csv(myfile,index_col=None)\n",
    "\n",
    "#display the 'head' of the data\n",
    "df.head()"
   ]
  },
  {
   "cell_type": "markdown",
   "metadata": {},
   "source": [
    "We use df['RadiusJpt'].head(20) to display the first 20 values in column RadiusJpt"
   ]
  },
  {
   "cell_type": "code",
   "execution_count": 10,
   "metadata": {},
   "outputs": [
    {
     "data": {
      "text/plain": [
       "0     0.05400\n",
       "1     0.11400\n",
       "2     0.07100\n",
       "3     0.84000\n",
       "4     0.82000\n",
       "5     0.14700\n",
       "6         NaN\n",
       "7     0.19200\n",
       "8     1.24000\n",
       "9         NaN\n",
       "10        NaN\n",
       "11    0.17200\n",
       "12    0.25600\n",
       "13    1.67000\n",
       "14    0.25250\n",
       "15    0.26610\n",
       "16    0.23056\n",
       "17        NaN\n",
       "18        NaN\n",
       "19        NaN\n",
       "Name: RadiusJpt, dtype: float64"
      ]
     },
     "execution_count": 10,
     "metadata": {},
     "output_type": "execute_result"
    }
   ],
   "source": [
    "df['RadiusJpt'].head(20)"
   ]
  },
  {
   "cell_type": "markdown",
   "metadata": {},
   "source": [
    "Since this column contains NaN entries we must use np.nanmean, np.nanmin, etc. when computing these statistical quantities."
   ]
  },
  {
   "cell_type": "markdown",
   "metadata": {},
   "source": [
    "## Summarising Numeric Data\n",
    "The numpy library is really useful for this.  Here is an example of how we might use it to find a mean."
   ]
  },
  {
   "cell_type": "code",
   "execution_count": 4,
   "metadata": {},
   "outputs": [
    {
     "name": "stdout",
     "output_type": "stream",
     "text": [
      "The mean is 2.7425\n"
     ]
    }
   ],
   "source": [
    "value_list=[3.14, 1.59, 2.65, 3.59]\n",
    "meanvalue=np.mean(value_list)\n",
    "print(\"The mean is {}\".format(meanvalue))"
   ]
  },
  {
   "cell_type": "markdown",
   "metadata": {},
   "source": [
    "## Remark\n",
    "However if we apply *np.mean()* to *df['RadiusJpt']* - we obtain:"
   ]
  },
  {
   "cell_type": "code",
   "execution_count": 6,
   "metadata": {},
   "outputs": [
    {
     "name": "stdout",
     "output_type": "stream",
     "text": [
      "The mean is nan\n"
     ]
    }
   ],
   "source": [
    "radius_array=np.array(df['RadiusJpt']).astype(float)\n",
    "meanvalue=np.mean(radius_array)\n",
    "print(\"The mean is {}\".format(meanvalue))"
   ]
  },
  {
   "cell_type": "markdown",
   "metadata": {},
   "source": [
    "As mentioned above we must use np.nanmean, etc"
   ]
  },
  {
   "cell_type": "markdown",
   "metadata": {},
   "source": [
    "## Exercise 1\n",
    "Use numpy to calculate the mean, median, min, max, standard deviation, range and interquartile range for the *RadiusJpt* column. "
   ]
  },
  {
   "cell_type": "code",
   "execution_count": 8,
   "metadata": {},
   "outputs": [
    {
     "name": "stdout",
     "output_type": "stream",
     "text": [
      "Mean: 0.3474223117977154\n",
      "Median: 0.20549499999999998\n",
      "Min: 0.0023\n",
      "Max:6.0\n",
      "Standard deviation:0.3910543789591339\n",
      "Range: 5.9977\n",
      "IQR: 0.16099999999999998\n",
      "\n"
     ]
    }
   ],
   "source": [
    "radius_array=np.array(df['RadiusJpt']).astype(float)\n",
    "mean=np.nanmean(radius_array)\n",
    "median=np.nanpercentile(radius_array,50)\n",
    "min_value=np.nanmin(radius_array)\n",
    "max_value=np.nanmax(radius_array)\n",
    "std=np.nanstd(radius_array)\n",
    "range_value=max_value-min_value\n",
    "lq=np.nanpercentile(radius_array,25)\n",
    "uq=np.nanpercentile(radius_array,75)\n",
    "iqr=uq-lq\n",
    "print(\"Mean: {}\\nMedian: {}\\nMin: {}\\nMax:{}\\nStandard deviation:{}\\nRange: {}\\nIQR: {}\\n\".format(mean,median,min_value,max_value,std,range_value,iqr))"
   ]
  },
  {
   "cell_type": "markdown",
   "metadata": {},
   "source": [
    "## Exercise 2 (advanced)\n",
    "In the lecture we discussed different definitions for some of the summary statistics used here.  For example, some definitions of standard deviation divide by *n* and some divide by *n-1*.  Median may or may not do something different for even and odd length lists.  By implementing your own functions for these definitions, investigate what definition is used by the numpy library routines for standard deviation and median. (see Topic 2 lecture notes for reference)."
   ]
  },
  {
   "cell_type": "code",
   "execution_count": null,
   "metadata": {},
   "outputs": [],
   "source": []
  },
  {
   "cell_type": "markdown",
   "metadata": {},
   "source": [
    "## Boxplots\n",
    "These are a good way of visualising numeric data."
   ]
  },
  {
   "cell_type": "code",
   "execution_count": 7,
   "metadata": {},
   "outputs": [
    {
     "data": {
      "image/png": "[encoded data removed]",
      "text/plain": [
       "<Figure size 432x288 with 1 Axes>"
      ]
     },
     "metadata": {
      "needs_background": "light"
     },
     "output_type": "display_data"
    }
   ],
   "source": [
    "#you can use pyplot in matplotlib\n",
    "import matplotlib.pyplot as plt\n",
    "\n",
    "mydata=[3,7,2,5,6,4,5,9,5,1,15]\n",
    "datasets={\"Dataset 1\":mydata}\n",
    "plt.boxplot(list(datasets.values()),sym='*',whis=1.5)\n",
    "plt.ylabel(\"Days\")\n",
    "plt.xticks(range(1,len(datasets)+1),datasets.keys())\n",
    "plt.title(\"A Boxplot\")\n",
    "plt.show()\n"
   ]
  },
  {
   "cell_type": "code",
   "execution_count": 10,
   "metadata": {},
   "outputs": [
    {
     "data": {
      "text/plain": [
       "[Text(0.5, 0, 'My Data')]"
      ]
     },
     "execution_count": 10,
     "metadata": {},
     "output_type": "execute_result"
    },
    {
     "data": {
      "image/png": "[encoded data removed]",
      "text/plain": [
       "<Figure size 432x288 with 1 Axes>"
      ]
     },
     "metadata": {
      "needs_background": "light"
     },
     "output_type": "display_data"
    }
   ],
   "source": [
    "#or you can use PANDAS\n",
    "df2 = pd.DataFrame(mydata)\n",
    "ax=df2.boxplot()\n",
    "ax.set(ylabel='Data Values');\n",
    "ax.set(xlabel='My Data')"
   ]
  },
  {
   "cell_type": "markdown",
   "metadata": {},
   "source": [
    "## Filterning out NaN values\n",
    "Since pyplot does not deal with NaN values in order to obtain a boxplot of the data in RadiusJpt that is stored in radius_array we would first need to filter out the NaN values using np.isnan()   "
   ]
  },
  {
   "cell_type": "code",
   "execution_count": 5,
   "metadata": {},
   "outputs": [
    {
     "ename": "NameError",
     "evalue": "name 'radius_array' is not defined",
     "output_type": "error",
     "traceback": [
      "\u001b[1;31m---------------------------------------------------------------------------\u001b[0m",
      "\u001b[1;31mNameError\u001b[0m                                 Traceback (most recent call last)",
      "\u001b[1;32m~\\AppData\\Local\\Temp/ipykernel_12892/581107548.py\u001b[0m in \u001b[0;36m<module>\u001b[1;34m\u001b[0m\n\u001b[1;32m----> 1\u001b[1;33m \u001b[0mfiltered_radius_array\u001b[0m \u001b[1;33m=\u001b[0m \u001b[0mradius_array\u001b[0m\u001b[1;33m[\u001b[0m\u001b[1;33m~\u001b[0m\u001b[0mnp\u001b[0m\u001b[1;33m.\u001b[0m\u001b[0misnan\u001b[0m\u001b[1;33m(\u001b[0m\u001b[0mradius_array\u001b[0m\u001b[1;33m)\u001b[0m\u001b[1;33m]\u001b[0m\u001b[1;33m\u001b[0m\u001b[1;33m\u001b[0m\u001b[0m\n\u001b[0m\u001b[0;32m      2\u001b[0m \u001b[0mget_ipython\u001b[0m\u001b[1;33m(\u001b[0m\u001b[1;33m)\u001b[0m\u001b[1;33m.\u001b[0m\u001b[0mrun_line_magic\u001b[0m\u001b[1;33m(\u001b[0m\u001b[1;34m'matplotlib'\u001b[0m\u001b[1;33m,\u001b[0m \u001b[1;34m'inline'\u001b[0m\u001b[1;33m)\u001b[0m\u001b[1;33m\u001b[0m\u001b[1;33m\u001b[0m\u001b[0m\n\u001b[0;32m      3\u001b[0m \u001b[1;31m#this may be needed depending on your version / configuration to make the plots display inline\u001b[0m\u001b[1;33m\u001b[0m\u001b[1;33m\u001b[0m\u001b[0m\n\u001b[0;32m      4\u001b[0m \u001b[1;32mfrom\u001b[0m \u001b[0mmatplotlib\u001b[0m \u001b[1;32mimport\u001b[0m \u001b[0mpyplot\u001b[0m \u001b[1;32mas\u001b[0m \u001b[0mplt\u001b[0m\u001b[1;33m\u001b[0m\u001b[1;33m\u001b[0m\u001b[0m\n\u001b[0;32m      5\u001b[0m \u001b[1;33m\u001b[0m\u001b[0m\n",
      "\u001b[1;31mNameError\u001b[0m: name 'radius_array' is not defined"
     ]
    }
   ],
   "source": [
    "filtered_radius_array = radius_array[~np.isnan(radius_array)]\n",
    "%matplotlib inline  \n",
    "#this may be needed depending on your version / configuration to make the plots display inline\n",
    "from matplotlib import pyplot as plt\n",
    "\n",
    "plt.boxplot([filtered_radius_array],sym='*',whis=1.5)\n",
    "plt.show()"
   ]
  },
  {
   "cell_type": "markdown",
   "metadata": {},
   "source": [
    "Alternatively we can use PANDAS which automatically deals with NaN values"
   ]
  },
  {
   "cell_type": "code",
   "execution_count": 12,
   "metadata": {},
   "outputs": [
    {
     "data": {
      "image/png": "[encoded data removed]",
      "text/plain": [
       "<Figure size 432x288 with 1 Axes>"
      ]
     },
     "metadata": {
      "needs_background": "light"
     },
     "output_type": "display_data"
    }
   ],
   "source": [
    "ax=df.boxplot(['RadiusJpt'])"
   ]
  },
  {
   "cell_type": "markdown",
   "metadata": {
    "collapsed": true
   },
   "source": [
    "sym and *whis* are examples of optional, named arguments to a function.  We can call plt.boxplot() without these arguments provided we supply the first unnamed argument which is the data.  In this case the function uses default values for these arguments (which were defined in the function definition).\n",
    "\n",
    "## Exercise 3a\n",
    "Modify the boxplot obtained using pyplot to include informative labels and gridlines (see the lecture notes).  Play with the arguments to see how the appearance changes.  "
   ]
  },
  {
   "cell_type": "code",
   "execution_count": 3,
   "metadata": {},
   "outputs": [
    {
     "ename": "NameError",
     "evalue": "name 'filtered_radius_array' is not defined",
     "output_type": "error",
     "traceback": [
      "\u001b[1;31m---------------------------------------------------------------------------\u001b[0m",
      "\u001b[1;31mNameError\u001b[0m                                 Traceback (most recent call last)",
      "\u001b[1;32m~\\AppData\\Local\\Temp/ipykernel_16704/861713987.py\u001b[0m in \u001b[0;36m<module>\u001b[1;34m\u001b[0m\n\u001b[1;32m----> 1\u001b[1;33m \u001b[0mboxplotset\u001b[0m\u001b[1;33m=\u001b[0m\u001b[1;33m{\u001b[0m\u001b[1;34m\"radiusJpt\"\u001b[0m\u001b[1;33m:\u001b[0m\u001b[0mfiltered_radius_array\u001b[0m\u001b[1;33m}\u001b[0m\u001b[1;33m\u001b[0m\u001b[1;33m\u001b[0m\u001b[0m\n\u001b[0m\u001b[0;32m      2\u001b[0m \u001b[0mfig\u001b[0m\u001b[1;33m,\u001b[0m\u001b[0max1\u001b[0m\u001b[1;33m=\u001b[0m\u001b[0mplt\u001b[0m\u001b[1;33m.\u001b[0m\u001b[0msubplots\u001b[0m\u001b[1;33m(\u001b[0m\u001b[0mfigsize\u001b[0m\u001b[1;33m=\u001b[0m\u001b[1;33m(\u001b[0m\u001b[1;36m4\u001b[0m\u001b[1;33m,\u001b[0m\u001b[1;36m6\u001b[0m\u001b[1;33m)\u001b[0m\u001b[1;33m)\u001b[0m\u001b[1;33m\u001b[0m\u001b[1;33m\u001b[0m\u001b[0m\n\u001b[0;32m      3\u001b[0m \u001b[0max1\u001b[0m\u001b[1;33m.\u001b[0m\u001b[0myaxis\u001b[0m\u001b[1;33m.\u001b[0m\u001b[0mgrid\u001b[0m\u001b[1;33m(\u001b[0m\u001b[1;32mTrue\u001b[0m\u001b[1;33m,\u001b[0m\u001b[0mlinestyle\u001b[0m\u001b[1;33m=\u001b[0m\u001b[1;34m'-'\u001b[0m\u001b[1;33m)\u001b[0m\u001b[1;33m\u001b[0m\u001b[1;33m\u001b[0m\u001b[0m\n\u001b[0;32m      4\u001b[0m \u001b[0mplt\u001b[0m\u001b[1;33m.\u001b[0m\u001b[0mboxplot\u001b[0m\u001b[1;33m(\u001b[0m\u001b[0mlist\u001b[0m\u001b[1;33m(\u001b[0m\u001b[0mboxplotset\u001b[0m\u001b[1;33m.\u001b[0m\u001b[0mvalues\u001b[0m\u001b[1;33m(\u001b[0m\u001b[1;33m)\u001b[0m\u001b[1;33m)\u001b[0m\u001b[1;33m,\u001b[0m\u001b[0msym\u001b[0m\u001b[1;33m=\u001b[0m\u001b[1;34m'+'\u001b[0m\u001b[1;33m,\u001b[0m\u001b[0mwhis\u001b[0m\u001b[1;33m=\u001b[0m\u001b[1;36m1.5\u001b[0m\u001b[1;33m)\u001b[0m\u001b[1;33m\u001b[0m\u001b[1;33m\u001b[0m\u001b[0m\n\u001b[0;32m      5\u001b[0m \u001b[1;31m# plt.ylabel('Value')\u001b[0m\u001b[1;33m\u001b[0m\u001b[1;33m\u001b[0m\u001b[0m\n",
      "\u001b[1;31mNameError\u001b[0m: name 'filtered_radius_array' is not defined"
     ]
    }
   ],
   "source": [
    "boxplotset={\"radiusJpt\":filtered_radius_array}\n",
    "# fig,ax1=plt.subplots(figsize=(4,6))\n",
    "# ax1.yaxis.grid(True,linestyle='-')\n",
    "# plt.boxplot(list(boxplotset.values()),sym='+',whis=1.5)\n",
    "# # plt.ylabel('Value')\n",
    "# # plt.xlabel('Dataset')\n",
    "# plt.xticks(range(1,len(boxplotset)+1),boxplotset.keys())\n",
    "# # plt.title('Boxplot')\n",
    "plt.show()"
   ]
  },
  {
   "cell_type": "markdown",
   "metadata": {},
   "source": [
    "## Histogram\n",
    "We can a plot a histogram on the RadiusJpt values"
   ]
  },
  {
   "cell_type": "code",
   "execution_count": 26,
   "metadata": {},
   "outputs": [
    {
     "data": {
      "text/plain": [
       "Text(0.5, 0, 'radiusJpt')"
      ]
     },
     "execution_count": 26,
     "metadata": {},
     "output_type": "execute_result"
    },
    {
     "data": {
      "image/png": "[encoded data removed]",
      "text/plain": [
       "<Figure size 432x288 with 1 Axes>"
      ]
     },
     "metadata": {
      "needs_background": "light"
     },
     "output_type": "display_data"
    }
   ],
   "source": [
    "boxplotset7={\"radiusJpt\":filtered_radius_array}\n",
    "plt.hist(list(boxplotset7.values()))\n",
    "plt.ylabel('Frequency')\n",
    "plt.xlabel('radiusJpt')"
   ]
  },
  {
   "cell_type": "markdown",
   "metadata": {},
   "source": [
    "## Exercise 3b\n",
    "\n",
    "Try rescaling the boxplot in Exercise 3a using plt.ylim().  Also try rescaling your numbers (e.g., on a log scale using the np.log10() function) and plotting these."
   ]
  },
  {
   "cell_type": "code",
   "execution_count": 15,
   "metadata": {},
   "outputs": [
    {
     "data": {
      "image/png": "[encoded data removed]",
      "text/plain": [
       "<Figure size 288x432 with 1 Axes>"
      ]
     },
     "metadata": {
      "needs_background": "light"
     },
     "output_type": "display_data"
    }
   ],
   "source": [
    "log_radius_array=np.array([np.log10(x) for x in radius_array])\n",
    "\n",
    "boxplotset={\"radiusJpt\":filtered_radius_array}\n",
    "fig,ax1=plt.subplots(figsize=(4,6))\n",
    "ax1.yaxis.grid(True,linestyle='-',)\n",
    "plt.boxplot(list(boxplotset.values()),sym='+',whis=1.5)\n",
    "#plt.ylim(-3,3)\n",
    "plt.ylabel('Value')\n",
    "plt.xlabel('Dataset')\n",
    "plt.xticks(range(1,len(boxplotset)+1),boxplotset.keys())\n",
    "plt.title('Boxplot')\n",
    "plt.show()\n"
   ]
  },
  {
   "cell_type": "markdown",
   "metadata": {},
   "source": [
    "## Exercise 3c\n",
    "First create a numpy array from the HostStarRadiusSlrRad column of the dataset.\n",
    "Then create a filtered version of this array by filtering out the NaN values.\n",
    "Display boxplots of *RadiusJpt* with *HostStarRadiusSlrRad* side-by-side.  \n"
   ]
  },
  {
   "cell_type": "code",
   "execution_count": 25,
   "metadata": {},
   "outputs": [
    {
     "data": {
      "image/png": "[encoded data removed]",
      "text/plain": [
       "<Figure size 576x432 with 1 Axes>"
      ]
     },
     "metadata": {
      "needs_background": "light"
     },
     "output_type": "display_data"
    }
   ],
   "source": [
    "host_star_radius_array=np.array(df['HostStarRadiusSlrRad']).astype(float)\n",
    "filtered_host_star_radius_array = host_star_radius_array[~np.isnan(host_star_radius_array)]\n",
    "boxplotset={\"RadiusJpt\":filtered_radius_array,\"HostStarRadiusSlrRad\":filtered_host_star_radius_array}\n",
    "fig,ax1=plt.subplots(figsize=(8,6))\n",
    "ax1.yaxis.grid(True,linestyle='-',)\n",
    "plt.boxplot(list(boxplotset.values()),sym='+',whis=1.5)\n",
    "plt.ylabel('Value')\n",
    "plt.xlabel('Dataset')\n",
    "plt.ylim(0,10)\n",
    "plt.xticks(range(1,len(boxplotset)+1),boxplotset.keys())\n",
    "plt.title('Boxplot')\n",
    "plt.show()"
   ]
  },
  {
   "cell_type": "markdown",
   "metadata": {},
   "source": [
    "## Exercise 3d (advanced)\n",
    "Write a function called **drawboxplot()** which has one positional / compulsory argument, which is a dictionary containing named datasets (e.g., **boxplotset**).  It should also have a number of optional named arguments which can be used to set style/display parameters but have defaults otherwise."
   ]
  },
  {
   "cell_type": "code",
   "execution_count": null,
   "metadata": {},
   "outputs": [],
   "source": []
  },
  {
   "cell_type": "markdown",
   "metadata": {},
   "source": [
    "## Bar charts\n",
    "The code below will draw a bar chart for dictionary data."
   ]
  },
  {
   "cell_type": "code",
   "execution_count": 5,
   "metadata": {},
   "outputs": [
    {
     "ename": "NameError",
     "evalue": "name 'plt' is not defined",
     "output_type": "error",
     "traceback": [
      "\u001b[1;31m---------------------------------------------------------------------------\u001b[0m",
      "\u001b[1;31mNameError\u001b[0m                                 Traceback (most recent call last)",
      "\u001b[1;32m~\\AppData\\Local\\Temp/ipykernel_16704/3254208984.py\u001b[0m in \u001b[0;36m<module>\u001b[1;34m\u001b[0m\n\u001b[0;32m      1\u001b[0m \u001b[0mdemodata\u001b[0m\u001b[1;33m=\u001b[0m\u001b[1;33m{\u001b[0m\u001b[1;34m\"Mon\"\u001b[0m\u001b[1;33m:\u001b[0m\u001b[1;36m156\u001b[0m\u001b[1;33m,\u001b[0m\u001b[1;34m\"Tues\"\u001b[0m\u001b[1;33m:\u001b[0m\u001b[1;36m45\u001b[0m\u001b[1;33m,\u001b[0m\u001b[1;34m\"Wed\"\u001b[0m\u001b[1;33m:\u001b[0m\u001b[1;36m67\u001b[0m\u001b[1;33m,\u001b[0m\u001b[1;34m\"Thurs\"\u001b[0m\u001b[1;33m:\u001b[0m\u001b[1;36m19\u001b[0m\u001b[1;33m,\u001b[0m\u001b[1;34m\"Fri\"\u001b[0m\u001b[1;33m:\u001b[0m\u001b[1;36m89\u001b[0m\u001b[1;33m,\u001b[0m\u001b[1;34m\"Sat\"\u001b[0m\u001b[1;33m:\u001b[0m\u001b[1;36m50\u001b[0m\u001b[1;33m,\u001b[0m\u001b[1;34m\"Sun\"\u001b[0m\u001b[1;33m:\u001b[0m\u001b[1;36m0\u001b[0m\u001b[1;33m}\u001b[0m\u001b[1;33m\u001b[0m\u001b[1;33m\u001b[0m\u001b[0m\n\u001b[0;32m      2\u001b[0m \u001b[0mxs\u001b[0m \u001b[1;33m=\u001b[0m\u001b[0mrange\u001b[0m\u001b[1;33m(\u001b[0m\u001b[1;36m0\u001b[0m\u001b[1;33m,\u001b[0m\u001b[0mlen\u001b[0m\u001b[1;33m(\u001b[0m\u001b[0mdemodata\u001b[0m\u001b[1;33m)\u001b[0m\u001b[1;33m)\u001b[0m\u001b[1;33m\u001b[0m\u001b[1;33m\u001b[0m\u001b[0m\n\u001b[1;32m----> 3\u001b[1;33m \u001b[0mplt\u001b[0m\u001b[1;33m.\u001b[0m\u001b[0mbar\u001b[0m\u001b[1;33m(\u001b[0m\u001b[0mxs\u001b[0m\u001b[1;33m,\u001b[0m\u001b[0mdemodata\u001b[0m\u001b[1;33m.\u001b[0m\u001b[0mvalues\u001b[0m\u001b[1;33m(\u001b[0m\u001b[1;33m)\u001b[0m\u001b[1;33m)\u001b[0m\u001b[1;33m\u001b[0m\u001b[1;33m\u001b[0m\u001b[0m\n\u001b[0m\u001b[0;32m      4\u001b[0m \u001b[0mplt\u001b[0m\u001b[1;33m.\u001b[0m\u001b[0mxticks\u001b[0m\u001b[1;33m(\u001b[0m\u001b[0mxs\u001b[0m\u001b[1;33m,\u001b[0m\u001b[0mdemodata\u001b[0m\u001b[1;33m.\u001b[0m\u001b[0mkeys\u001b[0m\u001b[1;33m(\u001b[0m\u001b[1;33m)\u001b[0m\u001b[1;33m)\u001b[0m\u001b[1;33m\u001b[0m\u001b[1;33m\u001b[0m\u001b[0m\n\u001b[0;32m      5\u001b[0m \u001b[0mplt\u001b[0m\u001b[1;33m.\u001b[0m\u001b[0mxlabel\u001b[0m\u001b[1;33m(\u001b[0m\u001b[1;34m\"Day\"\u001b[0m\u001b[1;33m)\u001b[0m\u001b[1;33m\u001b[0m\u001b[1;33m\u001b[0m\u001b[0m\n",
      "\u001b[1;31mNameError\u001b[0m: name 'plt' is not defined"
     ]
    }
   ],
   "source": [
    "demodata={\"Mon\":156,\"Tues\":45,\"Wed\":67,\"Thurs\":19,\"Fri\":89,\"Sat\":50,\"Sun\":0}\n",
    "xs =range(0,len(demodata))\n",
    "plt.bar(xs,demodata.values())\n",
    "plt.xticks(xs,demodata.keys())\n",
    "plt.xlabel(\"Day\")\n",
    "plt.ylabel(\"Frequency\")\n",
    "plt.title(\"Sales per Day\")\n",
    "plt.show()"
   ]
  },
  {
   "cell_type": "markdown",
   "metadata": {},
   "source": [
    "Sometimes it is necessary to make the xticklabels smaller so that they are readable.  To do this we can modify the code as follows:"
   ]
  },
  {
   "cell_type": "code",
   "execution_count": 19,
   "metadata": {},
   "outputs": [
    {
     "data": {
      "image/png": "[encoded data removed]",
      "text/plain": [
       "<Figure size 720x432 with 1 Axes>"
      ]
     },
     "metadata": {
      "needs_background": "light"
     },
     "output_type": "display_data"
    }
   ],
   "source": [
    "demodata={\"Mon\":156,\"Tues\":45,\"Wed\":67,\"Thurs\":19,\"Fri\":89,\"Sat\":50,\"Sun\":0}\n",
    "xs =range(0,len(demodata))\n",
    "fig,ax1=plt.subplots(figsize=(10,6))\n",
    "plt.bar(xs,demodata.values())\n",
    "plt.xticks(xs,demodata.keys())\n",
    "xtickNames=plt.setp(ax1,xticklabels=demodata.keys())\n",
    "plt.setp(xtickNames,rotation=45,fontsize=8)\n",
    "plt.xlabel(\"Day\")\n",
    "plt.ylabel(\"Frequency\")\n",
    "plt.title(\"Sales per Day\")\n",
    "plt.show()"
   ]
  },
  {
   "cell_type": "markdown",
   "metadata": {},
   "source": [
    "## Exercise 4a\n",
    "Modify the above bar chart code so that the fontsize/rotation depends on the longest key value."
   ]
  },
  {
   "cell_type": "code",
   "execution_count": null,
   "metadata": {},
   "outputs": [],
   "source": []
  },
  {
   "cell_type": "markdown",
   "metadata": {},
   "source": [
    "## Exercise 4b\n",
    "Write a function that will take a discrete / categorical variable and return a frequency distribution as a dictionary"
   ]
  },
  {
   "cell_type": "code",
   "execution_count": 20,
   "metadata": {},
   "outputs": [],
   "source": [
    "def make_frequency_dict(anylist):\n",
    "    frequency_dict={}\n",
    "    for myitem in anylist:\n",
    "        frequency_dict[myitem]=frequency_dict.get(myitem,0)+1\n",
    "    return frequency_dict"
   ]
  },
  {
   "cell_type": "markdown",
   "metadata": {},
   "source": [
    "## Exercise 4d\n",
    "Use your function from 4b to make frequency distributions for 'TypeFlag\" and 'DiscoveryYear'.  Display them as barcharts"
   ]
  },
  {
   "cell_type": "code",
   "execution_count": 21,
   "metadata": {},
   "outputs": [
    {
     "data": {
      "image/png": "[encoded data removed]",
      "text/plain": [
       "<Figure size 720x432 with 1 Axes>"
      ]
     },
     "metadata": {
      "needs_background": "light"
     },
     "output_type": "display_data"
    },
    {
     "data": {
      "image/png": "[encoded data removed]",
      "text/plain": [
       "<Figure size 720x432 with 1 Axes>"
      ]
     },
     "metadata": {
      "needs_background": "light"
     },
     "output_type": "display_data"
    }
   ],
   "source": [
    "type_flag_dict=make_frequency_dict(df['TypeFlag'])\n",
    "year_dict=make_frequency_dict(df['DiscoveryYear'])\n",
    "\n",
    "def displaybar(demodata,xlabel='',ylabel='Frequency',title=''):\n",
    "\n",
    "    xs =range(0,len(demodata))\n",
    "    sortedkeys=sorted(demodata.keys())\n",
    "    fig,ax1=plt.subplots(figsize=(10,6))\n",
    "    plt.bar([x-0.4 for x in xs],[demodata[key] for key in sortedkeys])\n",
    "    plt.xticks(xs,sortedkeys)\n",
    "    xtickNames=plt.setp(ax1,xticklabels=sortedkeys)\n",
    "    plt.setp(xtickNames,rotation=45,fontsize=8)\n",
    "    plt.xlabel(xlabel)\n",
    "    plt.ylabel(ylabel)\n",
    "\n",
    "    if title=='':\n",
    "        title=\"Barchart\"\n",
    "        if xlabel=='':\n",
    "            pass\n",
    "        else:\n",
    "            title+=\" for \"+xlabel\n",
    "    plt.title(title)\n",
    "    plt.show()\n",
    "    \n",
    "displaybar(type_flag_dict,xlabel='TypeFlag')\n",
    "displaybar(year_dict,xlabel='DiscoveryYear')\n",
    "\n"
   ]
  },
  {
   "cell_type": "markdown",
   "metadata": {},
   "source": [
    "## Scatterplots\n",
    "For paired data we can construct scatterplots and compute correlation coefficients using the following code:\n"
   ]
  },
  {
   "cell_type": "code",
   "execution_count": 4,
   "metadata": {},
   "outputs": [
    {
     "name": "stdout",
     "output_type": "stream",
     "text": [
      "Pearson's correlation coefficient is (-0.16137275320135408, 0.838627246798646)\n",
      "Spearman's correlation coefficient is SpearmanrResult(correlation=0.39999999999999997, pvalue=0.6)\n"
     ]
    },
    {
     "ename": "NameError",
     "evalue": "name 'plt' is not defined",
     "output_type": "error",
     "traceback": [
      "\u001b[1;31m---------------------------------------------------------------------------\u001b[0m",
      "\u001b[1;31mNameError\u001b[0m                                 Traceback (most recent call last)",
      "\u001b[1;32m~\\AppData\\Local\\Temp/ipykernel_12892/3271194706.py\u001b[0m in \u001b[0;36m<module>\u001b[1;34m\u001b[0m\n\u001b[0;32m     11\u001b[0m \u001b[0mprint\u001b[0m\u001b[1;33m(\u001b[0m\u001b[1;34m\"Spearman's correlation coefficient is {}\"\u001b[0m\u001b[1;33m.\u001b[0m\u001b[0mformat\u001b[0m\u001b[1;33m(\u001b[0m\u001b[0mspearmanr\u001b[0m\u001b[1;33m)\u001b[0m\u001b[1;33m)\u001b[0m\u001b[1;33m\u001b[0m\u001b[1;33m\u001b[0m\u001b[0m\n\u001b[0;32m     12\u001b[0m \u001b[1;33m\u001b[0m\u001b[0m\n\u001b[1;32m---> 13\u001b[1;33m \u001b[0mplt\u001b[0m\u001b[1;33m.\u001b[0m\u001b[0mscatter\u001b[0m\u001b[1;33m(\u001b[0m\u001b[0mx_array\u001b[0m\u001b[1;33m,\u001b[0m\u001b[0my_array\u001b[0m\u001b[1;33m)\u001b[0m\u001b[1;33m\u001b[0m\u001b[1;33m\u001b[0m\u001b[0m\n\u001b[0m\u001b[0;32m     14\u001b[0m \u001b[0mplt\u001b[0m\u001b[1;33m.\u001b[0m\u001b[0mshow\u001b[0m\u001b[1;33m(\u001b[0m\u001b[1;33m)\u001b[0m\u001b[1;33m\u001b[0m\u001b[1;33m\u001b[0m\u001b[0m\n",
      "\u001b[1;31mNameError\u001b[0m: name 'plt' is not defined"
     ]
    }
   ],
   "source": [
    "import scipy.stats as stats\n",
    "\n",
    "x_array=np.array([3.14, 1.59, 2.65, 3.59])\n",
    "y_array=np.array([2.71, 8.28, 1.82, 8.45])\n",
    "\n",
    "pearsoncc=stats.pearsonr(x_array,y_array)\n",
    "\n",
    "print(\"Pearson's correlation coefficient is {}\".format(pearsoncc))\n",
    "\n",
    "spearmanr=stats.spearmanr(x_array,y_array)\n",
    "print(\"Spearman's correlation coefficient is {}\".format(spearmanr))\n",
    "\n",
    "plt.scatter(x_array,y_array)\n",
    "plt.show()"
   ]
  },
  {
   "cell_type": "markdown",
   "metadata": {},
   "source": [
    "## Exercise 5a\n",
    "Unfortunately, you cannot just apply this code to arrays constructed for each individual variable in the df.   (Why not?)\n",
    "Bearing this in mind, compute correlation coefficients and construct a scatterplot comparing RadiusJpt and PlanetaryMassJpt. Label the axes and put gridlines on."
   ]
  },
  {
   "cell_type": "code",
   "execution_count": 12,
   "metadata": {},
   "outputs": [
    {
     "name": "stdout",
     "output_type": "stream",
     "text": [
      "3584\n",
      "3584\n",
      "Pearson's correlation coefficient is (-0.16137275320135408, 0.838627246798646)\n",
      "Spearman's correlation coefficient is SpearmanrResult(correlation=0.39999999999999997, pvalue=0.6)\n"
     ]
    },
    {
     "data": {
      "image/png": "[encoded data removed]",
      "text/plain": [
       "<Figure size 360x360 with 1 Axes>"
      ]
     },
     "metadata": {
      "needs_background": "light"
     },
     "output_type": "display_data"
    }
   ],
   "source": [
    "def make_scatter(alist,blist,xlabel='',ylabel=''):\n",
    "    \n",
    "    xs=[]\n",
    "    ys=[]\n",
    "    for a,b in zip(alist,blist):\n",
    "        try:\n",
    "            x=float(a)\n",
    "            y=float(b)\n",
    "            xs.append(x)\n",
    "            ys.append(y)\n",
    "        except:\n",
    "            pass\n",
    "            \n",
    "    xarray=np.array(xs)\n",
    "    yarray=np.array(ys)\n",
    "    print(len(xarray))\n",
    "    print(len(yarray))\n",
    "    pearsoncc=stats.pearsonr(x_array,y_array)\n",
    "\n",
    "    print(\"Pearson's correlation coefficient is {}\".format(pearsoncc))\n",
    "\n",
    "    spearmanr=stats.spearmanr(x_array,y_array)\n",
    "    print(\"Spearman's correlation coefficient is {}\".format(spearmanr))\n",
    "\n",
    "    fig,ax1=plt.subplots(figsize=(5,5))\n",
    "    ax1.yaxis.grid(True,linestyle='-')\n",
    "    ax1.xaxis.grid(True,linestyle='-')\n",
    "    plt.scatter(xarray,yarray)\n",
    "#     print(xarray)\n",
    "#     print(yarray)\n",
    "    plt.xlabel(xlabel)\n",
    "    plt.ylabel(ylabel)\n",
    "#     plt.xlim(0,35)\n",
    "#     plt.ylim(0,7)\n",
    "    plt.show()\n",
    "    \n",
    "xvar='PlanetaryMassJpt'\n",
    "yvar='RadiusJpt'\n",
    "make_scatter(df[xvar],df[yvar],xlabel=xvar,ylabel=yvar)\n",
    "    "
   ]
  },
  {
   "cell_type": "markdown",
   "metadata": {},
   "source": [
    "## Extension: Date formats\n",
    "The datetime library can be used to handle dates (and times).   For example:"
   ]
  },
  {
   "cell_type": "code",
   "execution_count": 52,
   "metadata": {},
   "outputs": [
    {
     "name": "stdout",
     "output_type": "stream",
     "text": [
      "Earliest date is 12/04/06\n",
      "Latest date is 19/07/16\n",
      "3751 days, 0:00:00\n"
     ]
    }
   ],
   "source": [
    "from datetime import datetime\n",
    "dateobjs=[]\n",
    "for mydate in df['LastUpdated']:\n",
    "    try:\n",
    "        dateobj=datetime.strptime(mydate,'%y/%m/%d')\n",
    "        dateobjs.append(dateobj)\n",
    "    except:\n",
    "        pass\n",
    "#print(dateobjs)\n",
    "first=datetime.max\n",
    "last=datetime.min\n",
    "\n",
    "for adate in dateobjs:\n",
    "    if adate<first:\n",
    "        first=adate\n",
    "    if adate>last:\n",
    "        last=adate\n",
    "        \n",
    "print(\"Earliest date is {}\".format(datetime.strftime(first,'%d/%m/%y')))\n",
    "print('Latest date is {}'.format(datetime.strftime(last,'%d/%m/%y')))\n",
    "print(last-first)\n",
    "    "
   ]
  },
  {
   "cell_type": "markdown",
   "metadata": {},
   "source": [
    "## Exercise 6 (advanced)\n",
    "Draw barcharts showing the distribution of updates according to each of day, month and year.  Using your barcharts you should be able to comment on which year most updates were made in, which month is most popular for making updates and which date in the month is most popular for making updates.\n"
   ]
  },
  {
   "cell_type": "code",
   "execution_count": 48,
   "metadata": {},
   "outputs": [
    {
     "data": {
      "image/png": "[encoded data removed]",
      "text/plain": [
       "<Figure size 720x432 with 1 Axes>"
      ]
     },
     "metadata": {
      "needs_background": "light"
     },
     "output_type": "display_data"
    },
    {
     "data": {
      "image/png": "[encoded data removed]",
      "text/plain": [
       "<Figure size 720x432 with 1 Axes>"
      ]
     },
     "metadata": {
      "needs_background": "light"
     },
     "output_type": "display_data"
    },
    {
     "data": {
      "image/png": "[encoded data removed]",
      "text/plain": [
       "<Figure size 720x432 with 1 Axes>"
      ]
     },
     "metadata": {
      "needs_background": "light"
     },
     "output_type": "display_data"
    }
   ],
   "source": [
    "updated_year={}\n",
    "updated_month={}\n",
    "updated_day={}\n",
    "for mydate in dateobjs:\n",
    "    y=mydate.year\n",
    "    m=mydate.month\n",
    "    d=mydate.day\n",
    "    updated_year[y]=updated_year.get(y,0)+1\n",
    "    updated_month[m]=updated_month.get(m,0)+1\n",
    "    updated_day[d]=updated_day.get(d,0)+1\n",
    "\n",
    "def plotbar(adict,xlabel=''):    \n",
    "    sortedkeys=sorted(adict.keys())\n",
    "    xs=range(0,len(adict))\n",
    "    fig, ax1 = plt.subplots(figsize=(10, 6))\n",
    "    plt.bar([x-0.4 for x in xs],[adict[key] for key in sortedkeys])\n",
    "    plt.xticks(xs,sortedkeys)\n",
    "    xtickNames=plt.setp(ax1,xticklabels=sortedkeys)\n",
    "    plt.setp(xtickNames,rotation=45,fontsize=8)\n",
    "    plt.xlabel(xlabel)\n",
    "    plt.show()\n",
    "\n",
    "plotbar(updated_year,'Year')\n",
    "plotbar(updated_month,'Month')\n",
    "plotbar(updated_day,'Day')"
   ]
  }
 ],
 "metadata": {
  "kernelspec": {
   "display_name": "Python 3 (ipykernel)",
   "language": "python",
   "name": "python3"
  },
  "language_info": {
   "codemirror_mode": {
    "name": "ipython",
    "version": 3
   },
   "file_extension": ".py",
   "mimetype": "text/x-python",
   "name": "python",
   "nbconvert_exporter": "python",
   "pygments_lexer": "ipython3",
   "version": "3.9.7"
  }
 },
 "nbformat": 4,
 "nbformat_minor": 1
}
